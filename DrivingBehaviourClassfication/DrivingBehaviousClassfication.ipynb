{
 "cells": [
  {
   "cell_type": "code",
   "execution_count": 7,
   "metadata": {},
   "outputs": [],
   "source": [
    "#impoering the libraries and moduels\n",
    "import torch\n",
    "import torch.nn as nn\n",
    "from torch.utils.data import Dataset ,DataLoader\n",
    "from sklearn.model_selection import train_test_split\n",
    "from torchsummary import summary\n",
    "from sklearn.metrics import accuracy_score\n",
    "import pandas as pd\n",
    "import numpy as np\n",
    "import matplotlib.pyplot as plt\n",
    "from torch.optim import Adam\n",
    "\n",
    "device = 'cuda' if torch.cuda.is_available() else 'cpu'\n",
    "\n"
   ]
  },
  {
   "cell_type": "code",
   "execution_count": 8,
   "metadata": {},
   "outputs": [],
   "source": [
    "#importing and cleaning the dataset\n",
    "test_data_df = pd.read_csv(r\"D:\\Datasets\\Kaggle\\Driving _behaviour_dataset\\test_motion_data.csv\")\n",
    "train_data_df = pd.read_csv(r\"D:\\Datasets\\Kaggle\\Driving _behaviour_dataset\\train_motion_data.csv\")"
   ]
  },
  {
   "cell_type": "code",
   "execution_count": 9,
   "metadata": {},
   "outputs": [],
   "source": [
    "original_test_data_df = test_data_df.copy()\n",
    "original_train_data_df = train_data_df.copy()\n",
    "test_data_df.dropna(inplace=True)\n",
    "train_data_df.dropna(inplace=True)\n",
    "\n"
   ]
  },
  {
   "cell_type": "code",
   "execution_count": 10,
   "metadata": {},
   "outputs": [],
   "source": [
    "#normalizing \n",
    "for column in train_data_df:\n",
    "    if train_data_df[column].dtype in  ['int','float']:\n",
    "        train_data_df[column] = train_data_df[column]/train_data_df[column].abs().max()\n",
    "\n",
    "for column in test_data_df:\n",
    "    if test_data_df[column].dtype in ['int','float']:\n",
    "        test_data_df[column] = test_data_df[column]/test_data_df[column].abs().max()\n"
   ]
  },
  {
   "cell_type": "code",
   "execution_count": 11,
   "metadata": {},
   "outputs": [
    {
     "name": "stdout",
     "output_type": "stream",
     "text": [
      "       AccX      AccY      AccZ     GyroX     GyroY     GyroZ   Class\n",
      "0  0.000000  0.000000  0.000000  0.069951 -0.104000  0.082443  NORMAL\n",
      "1 -0.325915 -0.230327 -0.028581 -0.033627  0.030545  0.109615  NORMAL\n",
      "2 -0.119277 -0.026046  0.030865 -0.022838 -0.017455  0.071080  NORMAL\n",
      "3  0.148124 -0.048610  0.093468  0.082179 -0.017818  0.044402  NORMAL\n",
      "4  0.020407  0.165447 -0.009341  0.036145 -0.002182  0.044402  NORMAL\n"
     ]
    }
   ],
   "source": [
    "#omitting out the timestamp column cuz its irrelevant\n",
    "test_data_df.drop(['Timestamp'], axis=1, inplace=True)\n",
    "train_data_df.drop(['Timestamp'], axis=1, inplace=True)\n",
    "print(train_data_df.head())\n"
   ]
  },
  {
   "cell_type": "code",
   "execution_count": 12,
   "metadata": {},
   "outputs": [
    {
     "name": "stdout",
     "output_type": "stream",
     "text": [
      "0       1\n",
      "1       1\n",
      "2       1\n",
      "3       1\n",
      "4       1\n",
      "       ..\n",
      "3639    0\n",
      "3640    0\n",
      "3641    0\n",
      "3642    0\n",
      "3643    0\n",
      "Name: Class, Length: 3644, dtype: int64\n"
     ]
    },
    {
     "name": "stderr",
     "output_type": "stream",
     "text": [
      "C:\\Users\\HP\\AppData\\Local\\Temp\\ipykernel_11200\\311424802.py:7: FutureWarning: Downcasting behavior in `replace` is deprecated and will be removed in a future version. To retain the old behavior, explicitly call `result.infer_objects(copy=False)`. To opt-in to the future behavior, set `pd.set_option('future.no_silent_downcasting', True)`\n",
      "  train_data_df['Class'] = train_data_df['Class'].replace(class_mapping)\n",
      "C:\\Users\\HP\\AppData\\Local\\Temp\\ipykernel_11200\\311424802.py:8: FutureWarning: Downcasting behavior in `replace` is deprecated and will be removed in a future version. To retain the old behavior, explicitly call `result.infer_objects(copy=False)`. To opt-in to the future behavior, set `pd.set_option('future.no_silent_downcasting', True)`\n",
      "  test_data_df['Class'] = test_data_df['Class'].replace(class_mapping)\n"
     ]
    }
   ],
   "source": [
    "#replacing the class column with integeres witht he help of mapping\n",
    "class_mapping = {\n",
    "    'SLOW' : 0,\n",
    "    'NORMAL' : 1,\n",
    "    'AGGRESSIVE' : 2\n",
    "}\n",
    "train_data_df['Class'] = train_data_df['Class'].replace(class_mapping)\n",
    "test_data_df['Class'] = test_data_df['Class'].replace(class_mapping)\n",
    "print(train_data_df['Class'])"
   ]
  },
  {
   "cell_type": "markdown",
   "metadata": {},
   "source": [
    "## Current Workflow ##\n"
   ]
  },
  {
   "cell_type": "markdown",
   "metadata": {},
   "source": [
    "1. Data cleaning - done\n",
    "2. Dataset setup: most conceptual i believe\n",
    "3. DataLoader magik\n",
    "4. Design the model, ooh gawd\n",
    "5. Training loop ooh lawd have mercy\n",
    "6. Test the model, ** insert confused cat meme here **"
   ]
  },
  {
   "cell_type": "markdown",
   "metadata": {},
   "source": []
  },
  {
   "cell_type": "code",
   "execution_count": 13,
   "metadata": {},
   "outputs": [],
   "source": [
    "###Dataset magik\n",
    "\n",
    "#converting to numpy arrays\n",
    "X = np.array(train_data_df.iloc[:,:-1])\n",
    "Y = np.array(train_data_df.iloc[:,-1])\n",
    "X_test = np.array(test_data_df.iloc[:,:-1])\n",
    "Y_test = np.array(test_data_df.iloc[:,-1])\n",
    "\n",
    "#creating a sweet validation set from train set\n",
    "X_train, X_val, Y_train, Y_val = train_test_split(X, Y, train_size=0.8)\n",
    "\n",
    "class dataset(Dataset):\n",
    "    def __init__(self, X, Y):\n",
    "        self.X = torch.tensor(X, dtype=torch.float32, requires_grad=True).to(device)\n",
    "        self.Y = torch.tensor(Y, dtype=torch.float32).to(device)\n",
    "        \n",
    "    def __len__(self):\n",
    "        return len(self.X)\n",
    "    \n",
    "    def __getitem__(self, index):\n",
    "        return self.X[index], self.Y[index]\n",
    "    "
   ]
  },
  {
   "cell_type": "code",
   "execution_count": 14,
   "metadata": {},
   "outputs": [],
   "source": [
    "training_data = dataset(X_train, Y_train)\n",
    "validation_data = dataset(X_val, Y_val)\n",
    "test_data = dataset(X_test, Y_test)\n"
   ]
  },
  {
   "cell_type": "code",
   "execution_count": 27,
   "metadata": {},
   "outputs": [],
   "source": [
    "#Loading the dataset into dataloader\n",
    "train_dataloader = DataLoader(training_data, batch_size=8, shuffle=True)\n",
    "validation_dataloader = DataLoader(validation_data, batch_size=8, shuffle=True)\n",
    "test_dataloader = DataLoader(test_data, batch_size=8, shuffle=True)"
   ]
  },
  {
   "cell_type": "code",
   "execution_count": 23,
   "metadata": {},
   "outputs": [],
   "source": [
    "#Designing the model\n",
    "class DriveModel(nn.Module):\n",
    "    def __init__(self):\n",
    "        super(DriveModel, self). __init__()\n",
    "        self.input_layer = nn.Linear(X.shape[1], 16)\n",
    "        self.relu = nn.ReLU()\n",
    "        self.output_layer = nn.Linear(16,3)\n",
    "\n",
    "    def forward(self, x):\n",
    "        x = self.input_layer(x)\n",
    "        x = self.relu(x)\n",
    "        output = self.output_layer(x)\n",
    "    \n",
    "model = DriveModel().to(device)\n"
   ]
  },
  {
   "cell_type": "code",
   "execution_count": 28,
   "metadata": {},
   "outputs": [],
   "source": [
    "loss_fn = nn.BCELoss()\n",
    "optimizer = Adam(model.parameters(), lr = 2)"
   ]
  },
  {
   "cell_type": "code",
   "execution_count": null,
   "metadata": {},
   "outputs": [
    {
     "ename": "TypeError",
     "evalue": "'int' object is not iterable",
     "output_type": "error",
     "traceback": [
      "\u001b[31m---------------------------------------------------------------------------\u001b[39m",
      "\u001b[31mTypeError\u001b[39m                                 Traceback (most recent call last)",
      "\u001b[36mCell\u001b[39m\u001b[36m \u001b[39m\u001b[32mIn[25]\u001b[39m\u001b[32m, line 1\u001b[39m\n\u001b[32m----> \u001b[39m\u001b[32m1\u001b[39m \u001b[43msummary\u001b[49m\u001b[43m(\u001b[49m\u001b[43mDriveModel\u001b[49m\u001b[43m,\u001b[49m\u001b[43m \u001b[49m\u001b[43m(\u001b[49m\u001b[43mX\u001b[49m\u001b[43m.\u001b[49m\u001b[43mshape\u001b[49m\u001b[43m[\u001b[49m\u001b[32;43m1\u001b[39;49m\u001b[43m]\u001b[49m\u001b[43m)\u001b[49m\u001b[43m)\u001b[49m\n",
      "\u001b[36mFile \u001b[39m\u001b[32mc:\\Coding\\Python learnen materials\\Projects\\ProjecrtEnv\\Lib\\site-packages\\torchsummary\\torchsummary.py:60\u001b[39m, in \u001b[36msummary\u001b[39m\u001b[34m(model, input_size, batch_size, device)\u001b[39m\n\u001b[32m     57\u001b[39m     input_size = [input_size]\n\u001b[32m     59\u001b[39m \u001b[38;5;66;03m# batch_size of 2 for batchnorm\u001b[39;00m\n\u001b[32m---> \u001b[39m\u001b[32m60\u001b[39m x = \u001b[43m[\u001b[49m\u001b[43mtorch\u001b[49m\u001b[43m.\u001b[49m\u001b[43mrand\u001b[49m\u001b[43m(\u001b[49m\u001b[32;43m2\u001b[39;49m\u001b[43m,\u001b[49m\u001b[43m \u001b[49m\u001b[43m*\u001b[49m\u001b[43min_size\u001b[49m\u001b[43m)\u001b[49m\u001b[43m.\u001b[49m\u001b[43mtype\u001b[49m\u001b[43m(\u001b[49m\u001b[43mdtype\u001b[49m\u001b[43m)\u001b[49m\u001b[43m \u001b[49m\u001b[38;5;28;43;01mfor\u001b[39;49;00m\u001b[43m \u001b[49m\u001b[43min_size\u001b[49m\u001b[43m \u001b[49m\u001b[38;5;129;43;01min\u001b[39;49;00m\u001b[43m \u001b[49m\u001b[43minput_size\u001b[49m\u001b[43m]\u001b[49m\n\u001b[32m     61\u001b[39m \u001b[38;5;66;03m# print(type(x[0]))\u001b[39;00m\n\u001b[32m     62\u001b[39m \n\u001b[32m     63\u001b[39m \u001b[38;5;66;03m# create properties\u001b[39;00m\n\u001b[32m     64\u001b[39m summary = OrderedDict()\n",
      "\u001b[31mTypeError\u001b[39m: 'int' object is not iterable"
     ]
    }
   ],
   "source": [
    "#Training loop\n",
    "total_loss_train_plt = []\n",
    "total_loss_val_plt = []\n",
    "total_acc_train_plt = []\n",
    "total_acc_val_plt = []\n",
    "\n",
    "\n",
    "#epochs = 10\n",
    "#for epoch in epochs:\n",
    "    total_loss_train = 0\n",
    "    total_acc_train = 0\n",
    "    total_loss_val = 0\n",
    "    total_acc_val = 0\n",
    "\n",
    "    input, labels = data\n",
    "    prediction = DriveModel(input)\n",
    "\n",
    "    batch_loss = loss_fn(input, labels)\n",
    "    total_loss_train += batch_loss\n",
    "\n",
    "    acc = ((prediction).round()==labels).sum().item()\n",
    "    total_acc_train += acc\n",
    "\n",
    "    loss_fn.backward()\n",
    "    optimizer.step()\n",
    "    optimizer.zero_grad()\n",
    "    \n"
   ]
  },
  {
   "cell_type": "code",
   "execution_count": null,
   "metadata": {},
   "outputs": [],
   "source": []
  }
 ],
 "metadata": {
  "kernelspec": {
   "display_name": "ProjecrtEnv",
   "language": "python",
   "name": "python3"
  },
  "language_info": {
   "codemirror_mode": {
    "name": "ipython",
    "version": 3
   },
   "file_extension": ".py",
   "mimetype": "text/x-python",
   "name": "python",
   "nbconvert_exporter": "python",
   "pygments_lexer": "ipython3",
   "version": "3.11.0"
  }
 },
 "nbformat": 4,
 "nbformat_minor": 2
}
