{
 "cells": [
  {
   "cell_type": "code",
   "execution_count": 5,
   "metadata": {},
   "outputs": [],
   "source": [
    "#impoering the libraries and moduels\n",
    "import torch\n",
    "import torch.nn as nn\n",
    "from torch.utils.data import Dataset ,DataLoader\n",
    "from sklearn.model_selection import train_test_split\n",
    "from torchsummary import summary\n",
    "from sklearn.metrics import accuracy_score\n",
    "import pandas as pd\n",
    "import numpy as np\n",
    "import matplotlib.pyplot as plt\n",
    "from torch.optim import Adam\n",
    "\n",
    "device = 'cuda' if torch.cuda.is_available() else 'cpu'\n",
    "\n"
   ]
  },
  {
   "cell_type": "code",
   "execution_count": 6,
   "metadata": {},
   "outputs": [],
   "source": [
    "#importing and cleaning the dataset\n",
    "test_data_df = pd.read_csv(r\"D:\\Datasets\\Kaggle\\Driving _behaviour_dataset\\test_motion_data.csv\")\n",
    "train_data_df = pd.read_csv(r\"D:\\Datasets\\Kaggle\\Driving _behaviour_dataset\\train_motion_data.csv\")"
   ]
  },
  {
   "cell_type": "code",
   "execution_count": 15,
   "metadata": {},
   "outputs": [],
   "source": [
    "original_test_data_df = test_data_df.copy()\n",
    "original_train_data_df = train_data_df.copy()\n",
    "test_data_df.dropna(inplace=True)\n",
    "train_data_df.dropna(inplace=True)\n",
    "\n"
   ]
  },
  {
   "cell_type": "code",
   "execution_count": 16,
   "metadata": {},
   "outputs": [],
   "source": [
    "#normalizing \n",
    "for column in train_data_df:\n",
    "    if train_data_df[column].dtype in  ['int','float']:\n",
    "        train_data_df[column] = train_data_df[column]/train_data_df[column].abs().max()\n",
    "\n",
    "for column in test_data_df:\n",
    "    if test_data_df[column].dtype in ['int','float']:\n",
    "        test_data_df[column] = test_data_df[column]/test_data_df[column].abs().max()\n"
   ]
  },
  {
   "cell_type": "code",
   "execution_count": 21,
   "metadata": {},
   "outputs": [
    {
     "name": "stdout",
     "output_type": "stream",
     "text": [
      "       AccX      AccY      AccZ     GyroX     GyroY     GyroZ   Class\n",
      "0  0.000000  0.000000  0.000000  0.069951 -0.104000  0.082443  NORMAL\n",
      "1 -0.325915 -0.230327 -0.028581 -0.033627  0.030545  0.109615  NORMAL\n",
      "2 -0.119277 -0.026046  0.030865 -0.022838 -0.017455  0.071080  NORMAL\n",
      "3  0.148124 -0.048610  0.093468  0.082179 -0.017818  0.044402  NORMAL\n",
      "4  0.020407  0.165447 -0.009341  0.036145 -0.002182  0.044402  NORMAL\n"
     ]
    }
   ],
   "source": [
    "#omitting out the timestamp column cuz its irrelevant\n",
    "test_data_df.drop(['Timestamp'], axis=1, inplace=True)\n",
    "train_data_df.drop(['Timestamp'], axis=1, inplace=True)\n",
    "print(train_data_df.head())"
   ]
  },
  {
   "cell_type": "markdown",
   "metadata": {},
   "source": [
    "## Current Workflow ##\n"
   ]
  },
  {
   "cell_type": "markdown",
   "metadata": {},
   "source": [
    "1. Data cleaning - done\n",
    "2. Dataset setup: most conceptual i believe\n",
    "3. DataLoader magik\n",
    "4. Design the model, ooh gawd\n",
    "5. Training loop ooh lawd have mercy\n",
    "6. Test the model, ** insert confused cat meme here **"
   ]
  },
  {
   "cell_type": "markdown",
   "metadata": {},
   "source": []
  },
  {
   "cell_type": "code",
   "execution_count": 22,
   "metadata": {},
   "outputs": [],
   "source": [
    "###Dataset magik\n",
    "\n",
    "#converting to numpy arrays\n",
    "X = np.array(train_data_df.iloc[:,:-1])\n",
    "Y = np.array(train_data_df.iloc[:,-1])\n",
    "\n",
    "#creating a sweet validation set from train set\n",
    "X_train, X_val, Y_train, Y_val = train_test_split(X, Y, train_size=0.8)\n",
    "\n",
    "class dataset(Dataset):\n",
    "    def __init__(self, X, Y):\n",
    "        self.X = torch.tensor(X, dtype=float, requires_grad=True).to(device)\n",
    "        self.Y = torch.tensor(Y, dtype=float, requires_grad=True).to(device)\n",
    "    \n",
    "    def __len__(self):\n",
    "        return len(self.X)\n",
    "    \n",
    "    def __getitem__(self, index):\n",
    "        return self.X[index], self.Y[index]\n",
    "    "
   ]
  },
  {
   "cell_type": "code",
   "execution_count": null,
   "metadata": {},
   "outputs": [],
   "source": []
  }
 ],
 "metadata": {
  "kernelspec": {
   "display_name": "ProjecrtEnv",
   "language": "python",
   "name": "python3"
  },
  "language_info": {
   "codemirror_mode": {
    "name": "ipython",
    "version": 3
   },
   "file_extension": ".py",
   "mimetype": "text/x-python",
   "name": "python",
   "nbconvert_exporter": "python",
   "pygments_lexer": "ipython3",
   "version": "3.11.0"
  }
 },
 "nbformat": 4,
 "nbformat_minor": 2
}
