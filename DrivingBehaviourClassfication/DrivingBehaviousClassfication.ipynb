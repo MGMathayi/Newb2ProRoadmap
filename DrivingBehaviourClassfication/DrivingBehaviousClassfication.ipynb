{
 "cells": [
  {
   "cell_type": "code",
   "execution_count": 17,
   "metadata": {},
   "outputs": [
    {
     "name": "stdout",
     "output_type": "stream",
     "text": [
      "       AccX      AccY      AccZ     GyroX     GyroY     GyroZ   Class\n",
      "0  0.000000  0.000000  0.000000  0.069951 -0.104000  0.082443  NORMAL\n",
      "1 -0.325915 -0.230327 -0.028581 -0.033627  0.030545  0.109615  NORMAL\n",
      "2 -0.119277 -0.026046  0.030865 -0.022838 -0.017455  0.071080  NORMAL\n",
      "3  0.148124 -0.048610  0.093468  0.082179 -0.017818  0.044402  NORMAL\n",
      "4  0.020407  0.165447 -0.009341  0.036145 -0.002182  0.044402  NORMAL\n",
      "0       1\n",
      "1       1\n",
      "2       1\n",
      "3       1\n",
      "4       1\n",
      "       ..\n",
      "3639    0\n",
      "3640    0\n",
      "3641    0\n",
      "3642    0\n",
      "3643    0\n",
      "Name: Class, Length: 3644, dtype: int64\n"
     ]
    },
    {
     "name": "stderr",
     "output_type": "stream",
     "text": [
      "C:\\Users\\HP\\AppData\\Local\\Temp\\ipykernel_39296\\3544475429.py:45: FutureWarning: Downcasting behavior in `replace` is deprecated and will be removed in a future version. To retain the old behavior, explicitly call `result.infer_objects(copy=False)`. To opt-in to the future behavior, set `pd.set_option('future.no_silent_downcasting', True)`\n",
      "  train_data_df['Class'] = train_data_df['Class'].replace(class_mapping)\n",
      "C:\\Users\\HP\\AppData\\Local\\Temp\\ipykernel_39296\\3544475429.py:46: FutureWarning: Downcasting behavior in `replace` is deprecated and will be removed in a future version. To retain the old behavior, explicitly call `result.infer_objects(copy=False)`. To opt-in to the future behavior, set `pd.set_option('future.no_silent_downcasting', True)`\n",
      "  test_data_df['Class'] = test_data_df['Class'].replace(class_mapping)\n"
     ]
    }
   ],
   "source": [
    "#impoering the libraries and moduels\n",
    "import torch\n",
    "import torch.nn as nn\n",
    "from torch.utils.data import Dataset ,DataLoader\n",
    "from sklearn.model_selection import train_test_split\n",
    "from torchsummary import summary\n",
    "from sklearn.metrics import accuracy_score\n",
    "import pandas as pd\n",
    "import numpy as np\n",
    "import matplotlib.pyplot as plt\n",
    "from torch.optim import Adam\n",
    "\n",
    "device = 'cuda' if torch.cuda.is_available() else 'cpu'\n",
    "\n",
    "\n",
    "#importing and cleaning the dataset\n",
    "test_data_df = pd.read_csv(r\"D:\\Datasets\\Kaggle\\Driving _behaviour_dataset\\test_motion_data.csv\")\n",
    "train_data_df = pd.read_csv(r\"D:\\Datasets\\Kaggle\\Driving _behaviour_dataset\\train_motion_data.csv\")\n",
    "original_test_data_df = test_data_df.copy()\n",
    "original_train_data_df = train_data_df.copy()\n",
    "test_data_df.dropna(inplace=True)\n",
    "train_data_df.dropna(inplace=True)\n",
    "\n",
    "\n",
    "#normalizing \n",
    "for column in train_data_df:\n",
    "    if train_data_df[column].dtype in  ['int','float']:\n",
    "        train_data_df[column] = train_data_df[column]/train_data_df[column].abs().max()\n",
    "\n",
    "for column in test_data_df:\n",
    "    if test_data_df[column].dtype in ['int','float']:\n",
    "        test_data_df[column] = test_data_df[column]/test_data_df[column].abs().max()\n",
    "\n",
    "#omitting out the timestamp column cuz its irrelevant\n",
    "test_data_df.drop(['Timestamp'], axis=1, inplace=True)\n",
    "train_data_df.drop(['Timestamp'], axis=1, inplace=True)\n",
    "print(train_data_df.head())\n",
    "\n",
    "#replacing the class column with integeres witht he help of mapping\n",
    "class_mapping = {\n",
    "    'SLOW' : 0,\n",
    "    'NORMAL' : 1,\n",
    "    'AGGRESSIVE' : 2\n",
    "}\n",
    "train_data_df['Class'] = train_data_df['Class'].replace(class_mapping)\n",
    "test_data_df['Class'] = test_data_df['Class'].replace(class_mapping)\n",
    "print(train_data_df['Class'])"
   ]
  },
  {
   "cell_type": "markdown",
   "metadata": {},
   "source": [
    "## Current Workflow ##\n"
   ]
  },
  {
   "cell_type": "markdown",
   "metadata": {},
   "source": [
    "1. Data cleaning - done\n",
    "2. Dataset setup: most conceptual i believe\n",
    "3. DataLoader magik\n",
    "4. Design the model, ooh gawd\n",
    "5. Training loop ooh lawd have mercy\n",
    "6. Test the model, ** insert confused cat meme here **"
   ]
  },
  {
   "cell_type": "markdown",
   "metadata": {},
   "source": []
  },
  {
   "cell_type": "code",
   "execution_count": 18,
   "metadata": {},
   "outputs": [],
   "source": [
    "###Dataset magik\n",
    "\n",
    "#converting to numpy arrays\n",
    "X = np.array(train_data_df.iloc[:,:-1])\n",
    "Y = np.array(train_data_df.iloc[:,-1])\n",
    "X_test = np.array(test_data_df.iloc[:,:-1])\n",
    "Y_test = np.array(test_data_df.iloc[:,-1])\n",
    "\n",
    "#creating a sweet validation set from train set\n",
    "X_train, X_val, Y_train, Y_val = train_test_split(X, Y, train_size=0.8)\n",
    "\n",
    "class dataset(Dataset):\n",
    "    def __init__(self, X, Y):\n",
    "        self.X = torch.tensor(X, dtype=torch.float32)\n",
    "        self.Y = torch.tensor(Y, dtype=torch.long)\n",
    "        \n",
    "    def __len__(self):\n",
    "        return len(self.X)\n",
    "    \n",
    "    def __getitem__(self, index):\n",
    "        return self.X[index], self.Y[index]\n",
    "    "
   ]
  },
  {
   "cell_type": "code",
   "execution_count": 19,
   "metadata": {},
   "outputs": [],
   "source": [
    "training_data = dataset(X_train, Y_train)\n",
    "validation_data = dataset(X_val, Y_val)\n",
    "test_data = dataset(X_test, Y_test)\n",
    "\n",
    "#Loading the dataset into dataloader\n",
    "train_dataloader = DataLoader(training_data, batch_size=8, shuffle=True)\n",
    "validation_dataloader = DataLoader(validation_data, batch_size=8, shuffle=True)\n",
    "test_dataloader = DataLoader(test_data, batch_size=8, shuffle=True)"
   ]
  },
  {
   "cell_type": "code",
   "execution_count": 20,
   "metadata": {},
   "outputs": [],
   "source": [
    "#Designing the model\n",
    "class DriveModel(nn.Module):\n",
    "    def __init__(self):\n",
    "        super(DriveModel, self). __init__()\n",
    "        self.input_layer = nn.Linear(X.shape[1], 16)\n",
    "        self.relu = nn.ReLU()\n",
    "        self.output_layer = nn.Linear(16,3)\n",
    "\n",
    "    def forward(self, x):\n",
    "        x = self.input_layer(x)\n",
    "        x = self.relu(x)\n",
    "        output = self.output_layer(x)\n",
    "        return x\n",
    "    \n",
    "model = DriveModel().to(device)\n"
   ]
  },
  {
   "cell_type": "code",
   "execution_count": 23,
   "metadata": {},
   "outputs": [],
   "source": [
    "loss_fn = nn.CrossEntropyLoss()\n",
    "optimizer = Adam(model.parameters(), lr = 1e-3)"
   ]
  },
  {
   "cell_type": "code",
   "execution_count": null,
   "metadata": {},
   "outputs": [],
   "source": [
    "#Training loop\n",
    "epochs = 10\n",
    "\n",
    "for epoch in range(epochs):\n",
    "    model.train()\n",
    "    running_loss = 0\n",
    "    for inputs, labels in train_dataloader:\n",
    "        inputs, labels = inputs.to(device),labels.to(device)\n",
    "        optimizer.zero_grad()\n",
    "        output = model(inputs)\n",
    "        batch_loss = loss_fn(output, labels)\n",
    "        batch_loss.backward()\n",
    "        optimizer.step()\n",
    "\n",
    "        running_loss += batch_loss.item()\n",
    "        avg_train_loss = running_loss/len(train_dataloader)\n",
    "\n",
    "\n",
    "    #Validation loop\n",
    "    model.eval()\n",
    "    val_running_loss = 0\n",
    "    val_running_loss = 0\n",
    "    with torch.no_grad():\n",
    "        for val_input, val_labels in validation_dataloader:\n",
    "            val_input = val_input.to(device)\n",
    "            val_labels = val_labels.to(device)\n",
    "\n",
    "            val_output = DriveModel(val_input)\n",
    "            val_batch_loss = loss_fn(val_output, val_labels)\n",
    "\n",
    "            val_running_loss += val_batch_loss.item()\n",
    "    avg_val_loss = val_running_loss/len(validation_dataloader)\n",
    "\n",
    "\n",
    "    print('**' * 12)\n",
    "\n",
    "    print(f\"Epoch: [{epoch+1}/{epochs}]\")\n",
    "    print(f\"Training loss(avg): {avg_train_loss}\")\n",
    "    print(f\"Validation loss(avg): {avg_val_loss}\")\n",
    "\n",
    "\n",
    "\n",
    "\n",
    "    \n"
   ]
  },
  {
   "cell_type": "code",
   "execution_count": null,
   "metadata": {},
   "outputs": [],
   "source": []
  }
 ],
 "metadata": {
  "kernelspec": {
   "display_name": "ProjecrtEnv",
   "language": "python",
   "name": "python3"
  },
  "language_info": {
   "codemirror_mode": {
    "name": "ipython",
    "version": 3
   },
   "file_extension": ".py",
   "mimetype": "text/x-python",
   "name": "python",
   "nbconvert_exporter": "python",
   "pygments_lexer": "ipython3",
   "version": "3.11.0"
  }
 },
 "nbformat": 4,
 "nbformat_minor": 2
}
