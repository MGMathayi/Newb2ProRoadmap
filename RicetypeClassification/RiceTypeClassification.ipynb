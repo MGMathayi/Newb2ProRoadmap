{
 "cells": [
  {
   "cell_type": "code",
   "execution_count": 64,
   "metadata": {},
   "outputs": [],
   "source": [
    "import torch\n",
    "import torch.nn as nn\n",
    "from torch.optim import Adam\n",
    "from torch.utils.data import Dataset, DataLoader\n",
    "from torchsummary import summary\n",
    "from sklearn.model_selection import train_test_split\n",
    "from sklearn.metrics import accuracy_score\n",
    "import matplotlib.pyplot as plt\n",
    "import numpy as np\n",
    "import pandas as pd"
   ]
  },
  {
   "cell_type": "code",
   "execution_count": 65,
   "metadata": {},
   "outputs": [
    {
     "name": "stdout",
     "output_type": "stream",
     "text": [
      "cpu\n"
     ]
    }
   ],
   "source": [
    "device = 'cuda' if torch.cuda.is_available() else 'cpu'\n",
    "print(device)"
   ]
  },
  {
   "cell_type": "code",
   "execution_count": 66,
   "metadata": {},
   "outputs": [
    {
     "data": {
      "text/html": [
       "<div>\n",
       "<style scoped>\n",
       "    .dataframe tbody tr th:only-of-type {\n",
       "        vertical-align: middle;\n",
       "    }\n",
       "\n",
       "    .dataframe tbody tr th {\n",
       "        vertical-align: top;\n",
       "    }\n",
       "\n",
       "    .dataframe thead th {\n",
       "        text-align: right;\n",
       "    }\n",
       "</style>\n",
       "<table border=\"1\" class=\"dataframe\">\n",
       "  <thead>\n",
       "    <tr style=\"text-align: right;\">\n",
       "      <th></th>\n",
       "      <th>id</th>\n",
       "      <th>Area</th>\n",
       "      <th>MajorAxisLength</th>\n",
       "      <th>MinorAxisLength</th>\n",
       "      <th>Eccentricity</th>\n",
       "      <th>ConvexArea</th>\n",
       "      <th>EquivDiameter</th>\n",
       "      <th>Extent</th>\n",
       "      <th>Perimeter</th>\n",
       "      <th>Roundness</th>\n",
       "      <th>AspectRation</th>\n",
       "      <th>Class</th>\n",
       "    </tr>\n",
       "  </thead>\n",
       "  <tbody>\n",
       "    <tr>\n",
       "      <th>0</th>\n",
       "      <td>1</td>\n",
       "      <td>4537</td>\n",
       "      <td>92.229316</td>\n",
       "      <td>64.012769</td>\n",
       "      <td>0.719916</td>\n",
       "      <td>4677</td>\n",
       "      <td>76.004525</td>\n",
       "      <td>0.657536</td>\n",
       "      <td>273.085</td>\n",
       "      <td>0.764510</td>\n",
       "      <td>1.440796</td>\n",
       "      <td>1</td>\n",
       "    </tr>\n",
       "    <tr>\n",
       "      <th>1</th>\n",
       "      <td>2</td>\n",
       "      <td>2872</td>\n",
       "      <td>74.691881</td>\n",
       "      <td>51.400454</td>\n",
       "      <td>0.725553</td>\n",
       "      <td>3015</td>\n",
       "      <td>60.471018</td>\n",
       "      <td>0.713009</td>\n",
       "      <td>208.317</td>\n",
       "      <td>0.831658</td>\n",
       "      <td>1.453137</td>\n",
       "      <td>1</td>\n",
       "    </tr>\n",
       "    <tr>\n",
       "      <th>2</th>\n",
       "      <td>3</td>\n",
       "      <td>3048</td>\n",
       "      <td>76.293164</td>\n",
       "      <td>52.043491</td>\n",
       "      <td>0.731211</td>\n",
       "      <td>3132</td>\n",
       "      <td>62.296341</td>\n",
       "      <td>0.759153</td>\n",
       "      <td>210.012</td>\n",
       "      <td>0.868434</td>\n",
       "      <td>1.465950</td>\n",
       "      <td>1</td>\n",
       "    </tr>\n",
       "    <tr>\n",
       "      <th>3</th>\n",
       "      <td>4</td>\n",
       "      <td>3073</td>\n",
       "      <td>77.033628</td>\n",
       "      <td>51.928487</td>\n",
       "      <td>0.738639</td>\n",
       "      <td>3157</td>\n",
       "      <td>62.551300</td>\n",
       "      <td>0.783529</td>\n",
       "      <td>210.657</td>\n",
       "      <td>0.870203</td>\n",
       "      <td>1.483456</td>\n",
       "      <td>1</td>\n",
       "    </tr>\n",
       "    <tr>\n",
       "      <th>4</th>\n",
       "      <td>5</td>\n",
       "      <td>3693</td>\n",
       "      <td>85.124785</td>\n",
       "      <td>56.374021</td>\n",
       "      <td>0.749282</td>\n",
       "      <td>3802</td>\n",
       "      <td>68.571668</td>\n",
       "      <td>0.769375</td>\n",
       "      <td>230.332</td>\n",
       "      <td>0.874743</td>\n",
       "      <td>1.510000</td>\n",
       "      <td>1</td>\n",
       "    </tr>\n",
       "  </tbody>\n",
       "</table>\n",
       "</div>"
      ],
      "text/plain": [
       "   id  Area  MajorAxisLength  MinorAxisLength  Eccentricity  ConvexArea  \\\n",
       "0   1  4537        92.229316        64.012769      0.719916        4677   \n",
       "1   2  2872        74.691881        51.400454      0.725553        3015   \n",
       "2   3  3048        76.293164        52.043491      0.731211        3132   \n",
       "3   4  3073        77.033628        51.928487      0.738639        3157   \n",
       "4   5  3693        85.124785        56.374021      0.749282        3802   \n",
       "\n",
       "   EquivDiameter    Extent  Perimeter  Roundness  AspectRation  Class  \n",
       "0      76.004525  0.657536    273.085   0.764510      1.440796      1  \n",
       "1      60.471018  0.713009    208.317   0.831658      1.453137      1  \n",
       "2      62.296341  0.759153    210.012   0.868434      1.465950      1  \n",
       "3      62.551300  0.783529    210.657   0.870203      1.483456      1  \n",
       "4      68.571668  0.769375    230.332   0.874743      1.510000      1  "
      ]
     },
     "execution_count": 66,
     "metadata": {},
     "output_type": "execute_result"
    }
   ],
   "source": [
    "data_df = pd.read_csv(r\"D:\\Datasets\\Kaggle\\Rice_type_classification\\riceClassification.csv\")\n",
    "data_df.head()"
   ]
  },
  {
   "cell_type": "code",
   "execution_count": 67,
   "metadata": {},
   "outputs": [
    {
     "name": "stdout",
     "output_type": "stream",
     "text": [
      "(18185, 11)\n"
     ]
    }
   ],
   "source": [
    "data_df.dropna(inplace=True)\n",
    "data_df.drop(['id'], axis=1, inplace=True)\n",
    "print(data_df.shape)"
   ]
  },
  {
   "cell_type": "code",
   "execution_count": 68,
   "metadata": {},
   "outputs": [
    {
     "name": "stdout",
     "output_type": "stream",
     "text": [
      "[1 0]\n"
     ]
    }
   ],
   "source": [
    "print(data_df['Class'].unique())"
   ]
  },
  {
   "cell_type": "code",
   "execution_count": 69,
   "metadata": {},
   "outputs": [
    {
     "name": "stdout",
     "output_type": "stream",
     "text": [
      "Class\n",
      "1    9985\n",
      "0    8200\n",
      "Name: count, dtype: int64\n"
     ]
    }
   ],
   "source": [
    "print(data_df['Class'].value_counts())"
   ]
  },
  {
   "cell_type": "code",
   "execution_count": 70,
   "metadata": {},
   "outputs": [
    {
     "data": {
      "text/html": [
       "<div>\n",
       "<style scoped>\n",
       "    .dataframe tbody tr th:only-of-type {\n",
       "        vertical-align: middle;\n",
       "    }\n",
       "\n",
       "    .dataframe tbody tr th {\n",
       "        vertical-align: top;\n",
       "    }\n",
       "\n",
       "    .dataframe thead th {\n",
       "        text-align: right;\n",
       "    }\n",
       "</style>\n",
       "<table border=\"1\" class=\"dataframe\">\n",
       "  <thead>\n",
       "    <tr style=\"text-align: right;\">\n",
       "      <th></th>\n",
       "      <th>Area</th>\n",
       "      <th>MajorAxisLength</th>\n",
       "      <th>MinorAxisLength</th>\n",
       "      <th>Eccentricity</th>\n",
       "      <th>ConvexArea</th>\n",
       "      <th>EquivDiameter</th>\n",
       "      <th>Extent</th>\n",
       "      <th>Perimeter</th>\n",
       "      <th>Roundness</th>\n",
       "      <th>AspectRation</th>\n",
       "      <th>Class</th>\n",
       "    </tr>\n",
       "  </thead>\n",
       "  <tbody>\n",
       "    <tr>\n",
       "      <th>0</th>\n",
       "      <td>0.444368</td>\n",
       "      <td>0.503404</td>\n",
       "      <td>0.775435</td>\n",
       "      <td>0.744658</td>\n",
       "      <td>0.424873</td>\n",
       "      <td>0.666610</td>\n",
       "      <td>0.741661</td>\n",
       "      <td>0.537029</td>\n",
       "      <td>0.844997</td>\n",
       "      <td>0.368316</td>\n",
       "      <td>1.0</td>\n",
       "    </tr>\n",
       "    <tr>\n",
       "      <th>1</th>\n",
       "      <td>0.281293</td>\n",
       "      <td>0.407681</td>\n",
       "      <td>0.622653</td>\n",
       "      <td>0.750489</td>\n",
       "      <td>0.273892</td>\n",
       "      <td>0.530370</td>\n",
       "      <td>0.804230</td>\n",
       "      <td>0.409661</td>\n",
       "      <td>0.919215</td>\n",
       "      <td>0.371471</td>\n",
       "      <td>1.0</td>\n",
       "    </tr>\n",
       "    <tr>\n",
       "      <th>2</th>\n",
       "      <td>0.298531</td>\n",
       "      <td>0.416421</td>\n",
       "      <td>0.630442</td>\n",
       "      <td>0.756341</td>\n",
       "      <td>0.284520</td>\n",
       "      <td>0.546380</td>\n",
       "      <td>0.856278</td>\n",
       "      <td>0.412994</td>\n",
       "      <td>0.959862</td>\n",
       "      <td>0.374747</td>\n",
       "      <td>1.0</td>\n",
       "    </tr>\n",
       "    <tr>\n",
       "      <th>3</th>\n",
       "      <td>0.300979</td>\n",
       "      <td>0.420463</td>\n",
       "      <td>0.629049</td>\n",
       "      <td>0.764024</td>\n",
       "      <td>0.286791</td>\n",
       "      <td>0.548616</td>\n",
       "      <td>0.883772</td>\n",
       "      <td>0.414262</td>\n",
       "      <td>0.961818</td>\n",
       "      <td>0.379222</td>\n",
       "      <td>1.0</td>\n",
       "    </tr>\n",
       "    <tr>\n",
       "      <th>4</th>\n",
       "      <td>0.361704</td>\n",
       "      <td>0.464626</td>\n",
       "      <td>0.682901</td>\n",
       "      <td>0.775033</td>\n",
       "      <td>0.345385</td>\n",
       "      <td>0.601418</td>\n",
       "      <td>0.867808</td>\n",
       "      <td>0.452954</td>\n",
       "      <td>0.966836</td>\n",
       "      <td>0.386007</td>\n",
       "      <td>1.0</td>\n",
       "    </tr>\n",
       "  </tbody>\n",
       "</table>\n",
       "</div>"
      ],
      "text/plain": [
       "       Area  MajorAxisLength  MinorAxisLength  Eccentricity  ConvexArea  \\\n",
       "0  0.444368         0.503404         0.775435      0.744658    0.424873   \n",
       "1  0.281293         0.407681         0.622653      0.750489    0.273892   \n",
       "2  0.298531         0.416421         0.630442      0.756341    0.284520   \n",
       "3  0.300979         0.420463         0.629049      0.764024    0.286791   \n",
       "4  0.361704         0.464626         0.682901      0.775033    0.345385   \n",
       "\n",
       "   EquivDiameter    Extent  Perimeter  Roundness  AspectRation  Class  \n",
       "0       0.666610  0.741661   0.537029   0.844997      0.368316    1.0  \n",
       "1       0.530370  0.804230   0.409661   0.919215      0.371471    1.0  \n",
       "2       0.546380  0.856278   0.412994   0.959862      0.374747    1.0  \n",
       "3       0.548616  0.883772   0.414262   0.961818      0.379222    1.0  \n",
       "4       0.601418  0.867808   0.452954   0.966836      0.386007    1.0  "
      ]
     },
     "execution_count": 70,
     "metadata": {},
     "output_type": "execute_result"
    }
   ],
   "source": [
    "#normalizign the dataset\n",
    "original_df = data_df.copy()\n",
    "for column in data_df.columns:\n",
    "    data_df[column] = data_df[column]/data_df[column].abs().max()\n",
    "data_df.head()"
   ]
  },
  {
   "cell_type": "code",
   "execution_count": 71,
   "metadata": {},
   "outputs": [],
   "source": [
    "X = np.array(data_df.iloc[:, :-1])\n",
    "Y = np.array(data_df.iloc[:,-1])"
   ]
  },
  {
   "cell_type": "code",
   "execution_count": 72,
   "metadata": {},
   "outputs": [],
   "source": [
    "#splitting the dataset\n",
    "X_train, X_test, Y_train ,Y_test = train_test_split(X,Y, test_size=0.3)"
   ]
  },
  {
   "cell_type": "code",
   "execution_count": 73,
   "metadata": {},
   "outputs": [],
   "source": [
    "X_test, X_val, Y_test ,Y_val = train_test_split(X_test,Y_test, test_size=0.5)"
   ]
  },
  {
   "cell_type": "code",
   "execution_count": 74,
   "metadata": {},
   "outputs": [
    {
     "name": "stdout",
     "output_type": "stream",
     "text": [
      "(12729, 10)\n",
      "(2728, 10)\n",
      "(2728, 10)\n"
     ]
    }
   ],
   "source": [
    "print(X_train.shape)\n",
    "print(X_val.shape)\n",
    "print(X_test.shape)"
   ]
  },
  {
   "cell_type": "code",
   "execution_count": 75,
   "metadata": {},
   "outputs": [],
   "source": [
    "#Dataset class\n",
    "class dataset(Dataset):\n",
    "    def __init__(self, X, Y):\n",
    "        self.X = torch.tensor(X, dtype=torch.float32).to(device)\n",
    "        self.Y = torch.tensor(Y, dtype=torch.float32).to(device)\n",
    "\n",
    "    def __len__(self):\n",
    "        return len(self.X)\n",
    "\n",
    "    def __getitem__(self, index):\n",
    "        return self.X[index], self.Y[index]\n",
    "\n"
   ]
  },
  {
   "cell_type": "code",
   "execution_count": 76,
   "metadata": {},
   "outputs": [],
   "source": [
    "#training data\n",
    "training_data = dataset(X_train, Y_train)\n",
    "validatiion_data = dataset(X_val, Y_val)\n",
    "testing_data = dataset(X_test, Y_test)"
   ]
  },
  {
   "cell_type": "code",
   "execution_count": 77,
   "metadata": {},
   "outputs": [],
   "source": [
    "#DataLoader\n",
    "train_dataloader = DataLoader(training_data, batch_size = 32, shuffle = True)\n",
    "validatiion_dataloader = DataLoader(validatiion_data, batch_size = 32, shuffle = True)\n",
    "testing_dataloader = DataLoader(testing_data, batch_size = 32, shuffle = True)"
   ]
  },
  {
   "cell_type": "code",
   "execution_count": 78,
   "metadata": {},
   "outputs": [
    {
     "name": "stdout",
     "output_type": "stream",
     "text": [
      "tensor([[0.8731, 0.8781, 0.8677, 0.9262, 0.8376, 0.9344, 0.7432, 0.7594, 0.8303,\n",
      "         0.5742],\n",
      "        [0.8043, 0.8383, 0.8374, 0.9237, 0.7683, 0.8968, 0.8903, 0.7188, 0.8537,\n",
      "         0.5679],\n",
      "        [0.5804, 0.7904, 0.6531, 0.9600, 0.5566, 0.7618, 0.5576, 0.6459, 0.7630,\n",
      "         0.6866],\n",
      "        [0.8750, 0.8737, 0.8700, 0.9244, 0.8377, 0.9354, 0.7729, 0.7539, 0.8444,\n",
      "         0.5698],\n",
      "        [0.4119, 0.6247, 0.5710, 0.9426, 0.3913, 0.6418, 0.6179, 0.5255, 0.8178,\n",
      "         0.6207],\n",
      "        [0.6420, 0.8903, 0.6347, 0.9796, 0.6139, 0.8013, 0.7074, 0.7133, 0.6920,\n",
      "         0.7959],\n",
      "        [0.5297, 0.7952, 0.5745, 0.9780, 0.5015, 0.7278, 0.8203, 0.6336, 0.7236,\n",
      "         0.7853],\n",
      "        [0.6273, 0.8870, 0.6201, 0.9817, 0.5977, 0.7920, 0.5891, 0.7034, 0.6953,\n",
      "         0.8116],\n",
      "        [0.6399, 0.8552, 0.6602, 0.9698, 0.6095, 0.7999, 0.5483, 0.6892, 0.7388,\n",
      "         0.7350],\n",
      "        [0.5488, 0.8586, 0.5545, 0.9896, 0.5208, 0.7408, 0.5505, 0.6674, 0.6756,\n",
      "         0.8784],\n",
      "        [0.8295, 0.8315, 0.8721, 0.9116, 0.7912, 0.9108, 0.6770, 0.7235, 0.8690,\n",
      "         0.5409],\n",
      "        [0.5832, 0.7860, 0.6495, 0.9600, 0.5529, 0.7636, 0.8722, 0.6396, 0.7819,\n",
      "         0.6866],\n",
      "        [0.8825, 0.8879, 0.8617, 0.9302, 0.8357, 0.9394, 0.6946, 0.7509, 0.8584,\n",
      "         0.5846],\n",
      "        [0.7969, 0.8457, 0.8256, 0.9289, 0.7651, 0.8927, 0.7371, 0.7269, 0.8272,\n",
      "         0.5812],\n",
      "        [0.5937, 0.6718, 0.7685, 0.8864, 0.5610, 0.7705, 0.8633, 0.5903, 0.9346,\n",
      "         0.4959],\n",
      "        [0.6382, 0.8493, 0.6577, 0.9694, 0.6137, 0.7989, 0.5645, 0.6970, 0.7204,\n",
      "         0.7326],\n",
      "        [0.6166, 0.8209, 0.6600, 0.9641, 0.5878, 0.7852, 0.6261, 0.6664, 0.7613,\n",
      "         0.7057],\n",
      "        [0.8924, 0.8851, 0.8782, 0.9252, 0.8509, 0.9446, 0.7320, 0.7600, 0.8474,\n",
      "         0.5718],\n",
      "        [0.8607, 0.8733, 0.8567, 0.9278, 0.8200, 0.9278, 0.8892, 0.7514, 0.8360,\n",
      "         0.5783],\n",
      "        [0.5618, 0.7766, 0.6358, 0.9614, 0.5369, 0.7495, 0.7968, 0.6376, 0.7579,\n",
      "         0.6930],\n",
      "        [0.7495, 0.8141, 0.8006, 0.9273, 0.7065, 0.8657, 0.8777, 0.6906, 0.8619,\n",
      "         0.5769],\n",
      "        [0.6242, 0.8742, 0.6300, 0.9783, 0.6023, 0.7901, 0.6945, 0.7093, 0.6805,\n",
      "         0.7872],\n",
      "        [0.7653, 0.8069, 0.8235, 0.9185, 0.7269, 0.8748, 0.7759, 0.6928, 0.8745,\n",
      "         0.5559],\n",
      "        [0.6779, 0.8498, 0.7030, 0.9598, 0.6475, 0.8233, 0.8099, 0.7015, 0.7555,\n",
      "         0.6859],\n",
      "        [0.8818, 0.8656, 0.8858, 0.9178, 0.8369, 0.9390, 0.6931, 0.7431, 0.8756,\n",
      "         0.5544],\n",
      "        [0.8917, 0.8739, 0.8868, 0.9199, 0.8430, 0.9443, 0.6892, 0.7493, 0.8711,\n",
      "         0.5591],\n",
      "        [0.8638, 0.8690, 0.8748, 0.9219, 0.8384, 0.9294, 0.6399, 0.7634, 0.8129,\n",
      "         0.5636],\n",
      "        [0.9071, 0.8742, 0.9018, 0.9158, 0.8625, 0.9524, 0.8316, 0.7611, 0.8588,\n",
      "         0.5500],\n",
      "        [0.6216, 0.8955, 0.6020, 0.9858, 0.5920, 0.7884, 0.7990, 0.7091, 0.6781,\n",
      "         0.8439],\n",
      "        [0.6092, 0.8679, 0.6143, 0.9804, 0.5799, 0.7805, 0.5383, 0.6895, 0.7028,\n",
      "         0.8016],\n",
      "        [0.6329, 0.8629, 0.6437, 0.9742, 0.6037, 0.7956, 0.6754, 0.6989, 0.7106,\n",
      "         0.7606],\n",
      "        [0.6117, 0.8773, 0.6107, 0.9822, 0.5798, 0.7821, 0.5077, 0.6946, 0.6953,\n",
      "         0.8150]])\n",
      "=======\n",
      "tensor([0., 0., 1., 0., 1., 1., 1., 1., 1., 1., 0., 1., 0., 0., 0., 1., 1., 0.,\n",
      "        0., 1., 0., 1., 0., 1., 0., 0., 0., 0., 1., 1., 1., 1.])\n"
     ]
    }
   ],
   "source": [
    "for x, y in train_dataloader:\n",
    "    print(x)\n",
    "    print('=======')\n",
    "    print(y)\n",
    "    break"
   ]
  },
  {
   "cell_type": "code",
   "execution_count": 79,
   "metadata": {},
   "outputs": [],
   "source": [
    "#Simple Model\n",
    "HIDDEN_NEURONS = 10\n",
    "class MyModel(nn.Module):\n",
    "    def __init__(self):\n",
    "        super(MyModel, self). __init__()\n",
    "\n",
    "        self.input_layer = nn.Linear(X.shape[1], HIDDEN_NEURONS)\n",
    "        self.linear = nn.Linear(HIDDEN_NEURONS, 1)\n",
    "        self.sigmoid = nn.Sigmoid()\n",
    "    \n",
    "    def forward(self, x):\n",
    "        x = self.input_layer(x)\n",
    "        x = self.linear(x)\n",
    "        x = self.sigmoid(x)\n",
    "        return x\n",
    "    \n",
    "\n",
    "model = MyModel().to(device)\n",
    "\n",
    "\n"
   ]
  },
  {
   "cell_type": "code",
   "execution_count": 80,
   "metadata": {},
   "outputs": [
    {
     "name": "stdout",
     "output_type": "stream",
     "text": [
      "----------------------------------------------------------------\n",
      "        Layer (type)               Output Shape         Param #\n",
      "================================================================\n",
      "            Linear-1                   [-1, 10]             110\n",
      "            Linear-2                    [-1, 1]              11\n",
      "           Sigmoid-3                    [-1, 1]               0\n",
      "================================================================\n",
      "Total params: 121\n",
      "Trainable params: 121\n",
      "Non-trainable params: 0\n",
      "----------------------------------------------------------------\n",
      "Input size (MB): 0.00\n",
      "Forward/backward pass size (MB): 0.00\n",
      "Params size (MB): 0.00\n",
      "Estimated Total Size (MB): 0.00\n",
      "----------------------------------------------------------------\n"
     ]
    }
   ],
   "source": [
    "#Summary from torchsummary\n",
    "summary(model, (X.shape[1],))"
   ]
  },
  {
   "cell_type": "code",
   "execution_count": 81,
   "metadata": {},
   "outputs": [],
   "source": [
    "#Loss function and optimizier\n",
    "criterion = nn.BCELoss()\n",
    "optimizer = Adam(model.parameters(), lr = 1e-3)"
   ]
  },
  {
   "cell_type": "code",
   "execution_count": 82,
   "metadata": {},
   "outputs": [
    {
     "name": "stdout",
     "output_type": "stream",
     "text": [
      "Epoch no: 1 Train Loss: 0.2328 Train Accuracy: 84.6335 \n",
      "        Validation loss: 0.0376 Validation Accuracy:(97.61730205278593, 4)\n",
      "=========================\n",
      "Epoch no: 2 Train Loss: 0.1169 Train Accuracy: 98.0281 \n",
      "        Validation loss: 0.0166 Validation Accuracy:(97.91055718475073, 4)\n",
      "=========================\n",
      "Epoch no: 3 Train Loss: 0.056 Train Accuracy: 98.3267 \n",
      "        Validation loss: 0.0095 Validation Accuracy:(98.42375366568915, 4)\n",
      "=========================\n",
      "Epoch no: 4 Train Loss: 0.0358 Train Accuracy: 98.4759 \n",
      "        Validation loss: 0.0069 Validation Accuracy:(98.38709677419355, 4)\n",
      "=========================\n",
      "Epoch no: 5 Train Loss: 0.0275 Train Accuracy: 98.5702 \n",
      "        Validation loss: 0.0058 Validation Accuracy:(98.38709677419355, 4)\n",
      "=========================\n",
      "Epoch no: 6 Train Loss: 0.0234 Train Accuracy: 98.6095 \n",
      "        Validation loss: 0.0051 Validation Accuracy:(98.38709677419355, 4)\n",
      "=========================\n",
      "Epoch no: 7 Train Loss: 0.021 Train Accuracy: 98.6173 \n",
      "        Validation loss: 0.0046 Validation Accuracy:(98.60703812316716, 4)\n",
      "=========================\n",
      "Epoch no: 8 Train Loss: 0.0195 Train Accuracy: 98.5545 \n",
      "        Validation loss: 0.0044 Validation Accuracy:(98.60703812316716, 4)\n",
      "=========================\n",
      "Epoch no: 9 Train Loss: 0.0186 Train Accuracy: 98.5938 \n",
      "        Validation loss: 0.0041 Validation Accuracy:(98.68035190615836, 4)\n",
      "=========================\n",
      "Epoch no: 10 Train Loss: 0.0179 Train Accuracy: 98.6173 \n",
      "        Validation loss: 0.004 Validation Accuracy:(98.57038123167156, 4)\n",
      "=========================\n"
     ]
    }
   ],
   "source": [
    "#training loop\n",
    "total_loss_train_plot = []\n",
    "total_loss_validation_plot = []\n",
    "total_acc_train_plot = []\n",
    "total_acc_validation_plot = []\n",
    "\n",
    "epochs = 10\n",
    "for epoch in range(epochs):\n",
    "    total_acc_train = 0\n",
    "    total_loss_train = 0\n",
    "    total_acc_val = 0\n",
    "    total_loss_val = 0\n",
    "\n",
    "    for data in train_dataloader:\n",
    "        inputs, labels = data\n",
    "\n",
    "        prediction = model(inputs).squeeze(1)\n",
    "        \n",
    "        batch_loss = criterion(prediction, labels)\n",
    "        \n",
    "        total_loss_train += batch_loss.item()\n",
    "\n",
    "        acc = ((prediction).round()==labels).sum().item()\n",
    "        \n",
    "        total_acc_train += acc\n",
    "\n",
    "        batch_loss.backward()\n",
    "        optimizer.step()\n",
    "        optimizer.zero_grad()\n",
    "\n",
    "    with torch.no_grad():\n",
    "        for data in validatiion_dataloader:\n",
    "            inputs, labels = data\n",
    "\n",
    "            prediction = model(inputs).squeeze(1)\n",
    "            batch_loss = criterion(prediction, labels)\n",
    "            \n",
    "            total_loss_val += batch_loss.item()\n",
    "            acc = ((prediction).round()==labels).sum().item()\n",
    "\n",
    "            total_acc_val += acc\n",
    "\n",
    "        total_loss_train_plot.append(round(total_loss_train/1000,4))\n",
    "        total_loss_validation_plot.append(round(total_loss_val/1000,4))\n",
    "\n",
    "        total_acc_train_plot.append(round(total_acc_train/training_data.__len__() * 100,4))\n",
    "        total_acc_validation_plot.append(round(total_acc_val/validatiion_data.__len__() * 100,4))\n",
    "\n",
    "        print(f'''Epoch no: {epoch + 1} Train Loss: {round(total_loss_train/1000,4)} Train Accuracy: {round(total_acc_train/training_data.__len__() * 100,4)} \n",
    "        Validation loss: {round(total_loss_val/1000,4)} Validation Accuracy:{(total_acc_val/validatiion_data.__len__() * 100,4)}''')\n",
    "        print(\"=\"*25)\n",
    "\n"
   ]
  },
  {
   "cell_type": "code",
   "execution_count": 83,
   "metadata": {},
   "outputs": [
    {
     "name": "stdout",
     "output_type": "stream",
     "text": [
      "Accuracy: 98.7537\n"
     ]
    }
   ],
   "source": [
    "#Testing the model\n",
    "with torch.no_grad():\n",
    "    total_loss_test = 0\n",
    "    total_acc_test = 0\n",
    "    for data in testing_dataloader:\n",
    "        inputs, labels = data\n",
    "\n",
    "        prediction = model(inputs).squeeze(1)\n",
    "\n",
    "        batch_loss_test = criterion(prediction, labels).item()\n",
    "        total_loss_test += batch_loss_test\n",
    "\n",
    "        acc = ((prediction).round()==labels).sum().item()\n",
    "        \n",
    "        total_acc_test += acc\n",
    "\n",
    "print('Accuracy:', round(total_acc_test/testing_data.__len__() * 100,4))"
   ]
  },
  {
   "cell_type": "code",
   "execution_count": 84,
   "metadata": {},
   "outputs": [
    {
     "data": {
      "image/png": "[encoded data removed]",
      "text/plain": [
       "<Figure size 1500x500 with 2 Axes>"
      ]
     },
     "metadata": {},
     "output_type": "display_data"
    }
   ],
   "source": [
    "#plot for better visualiztion\n",
    "\n",
    "fig, axs = plt.subplots(nrows = 1, ncols = 2, figsize = (15,5))\n",
    "axs[0].plot(total_loss_train_plot, label = \"Training Losss\")\n",
    "axs[0].plot(total_loss_validation_plot, label = \"Validation Loss\")\n",
    "axs[0].set_title(\"Training and Validation loss over epochs\")\n",
    "axs[0].set_xlabel('Epochs')\n",
    "axs[0].set_ylabel('Loss')\n",
    "axs[0].set_ylim([0,2])\n",
    "axs[0].legend()\n",
    "\n",
    "\n",
    "axs[1].plot(total_acc_train_plot, label = \"Training Accuracy\")\n",
    "axs[1].plot(total_acc_validation_plot, label = \"Validation Accuracy\")\n",
    "axs[1].set_title(\"Training and Validation loss over epochs\")\n",
    "axs[1].set_xlabel('Epochs')\n",
    "axs[1].set_ylabel('Accuract')\n",
    "axs[1].set_ylim([1,100])\n",
    "axs[1].legend()\n",
    "\n",
    "plt.show()"
   ]
  },
  {
   "cell_type": "code",
   "execution_count": null,
   "metadata": {},
   "outputs": [],
   "source": [
    "\n"
   ]
  }
 ],
 "metadata": {
  "kernelspec": {
   "display_name": "ProjecrtEnv",
   "language": "python",
   "name": "python3"
  },
  "language_info": {
   "codemirror_mode": {
    "name": "ipython",
    "version": 3
   },
   "file_extension": ".py",
   "mimetype": "text/x-python",
   "name": "python",
   "nbconvert_exporter": "python",
   "pygments_lexer": "ipython3",
   "version": "3.11.0"
  }
 },
 "nbformat": 4,
 "nbformat_minor": 2
}
